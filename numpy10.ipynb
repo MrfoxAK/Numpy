{
 "cells": [
  {
   "cell_type": "markdown",
   "id": "2eb6dac9",
   "metadata": {},
   "source": [
    "# String operations"
   ]
  },
  {
   "cell_type": "code",
   "execution_count": 1,
   "id": "719d5660",
   "metadata": {},
   "outputs": [],
   "source": [
    "import numpy as ak"
   ]
  },
  {
   "cell_type": "code",
   "execution_count": 11,
   "id": "ed9199c6",
   "metadata": {},
   "outputs": [
    {
     "name": "stdout",
     "output_type": "stream",
     "text": [
      "I am a very good boy and my name is Akash Das\n"
     ]
    }
   ],
   "source": [
    "str1 = \"I am a very good boy and my name is \"\n",
    "str2 = \"Akash Das\"\n",
    "add = ak.char.add(str1,str2)\n",
    "print(add)\n",
    "i=3"
   ]
  },
  {
   "cell_type": "code",
   "execution_count": 13,
   "id": "b0ca92c3",
   "metadata": {},
   "outputs": [
    {
     "name": "stdout",
     "output_type": "stream",
     "text": [
      "I am a very good boy and my name is I am a very good boy and my name is I am a very good boy and my name is \n"
     ]
    }
   ],
   "source": [
    "multi = ak.char.multiply(str1,i)\n",
    "print(multi)"
   ]
  },
  {
   "cell_type": "code",
   "execution_count": 16,
   "id": "b355a68c",
   "metadata": {},
   "outputs": [
    {
     "data": {
      "text/plain": [
       "array('i am a very good boy and my name is i am a very good boy and my name is i am a very good boy and my name is ',\n",
       "      dtype='<U108')"
      ]
     },
     "execution_count": 16,
     "metadata": {},
     "output_type": "execute_result"
    }
   ],
   "source": [
    "ak.char.lower(multi)"
   ]
  },
  {
   "cell_type": "code",
   "execution_count": 18,
   "id": "7227acd7",
   "metadata": {},
   "outputs": [
    {
     "data": {
      "text/plain": [
       "array('*********************************************Akash Das**********************************************',\n",
       "      dtype='<U100')"
      ]
     },
     "execution_count": 18,
     "metadata": {},
     "output_type": "execute_result"
    }
   ],
   "source": [
    "ak.char.center(str2,100,'*')"
   ]
  },
  {
   "cell_type": "code",
   "execution_count": 20,
   "id": "a671f2df",
   "metadata": {},
   "outputs": [
    {
     "data": {
      "text/plain": [
       "array(list(['I', 'am', 'a', 'very', 'good', 'boy', 'and', 'my', 'name', 'is']),\n",
       "      dtype=object)"
      ]
     },
     "execution_count": 20,
     "metadata": {},
     "output_type": "execute_result"
    }
   ],
   "source": [
    "ak.char.split(str1)"
   ]
  },
  {
   "cell_type": "code",
   "execution_count": 24,
   "id": "9ac906e7",
   "metadata": {},
   "outputs": [
    {
     "name": "stdout",
     "output_type": "stream",
     "text": [
      " i \n",
      " am \n",
      " ak\n"
     ]
    }
   ],
   "source": [
    "s = \" i \\n am \\n ak\"\n",
    "print(s)"
   ]
  },
  {
   "cell_type": "code",
   "execution_count": 27,
   "id": "634e618e",
   "metadata": {},
   "outputs": [
    {
     "name": "stdout",
     "output_type": "stream",
     "text": [
      "[' i ', ' am ', ' ak']\n"
     ]
    }
   ],
   "source": [
    "s_split = ak.char.splitlines(s)\n",
    "print(s_split)"
   ]
  },
  {
   "cell_type": "code",
   "execution_count": 29,
   "id": "aa20ab6a",
   "metadata": {},
   "outputs": [
    {
     "name": "stdout",
     "output_type": "stream",
     "text": [
      "Joint dmy by : and / =  ['d:m:y' 'd/m/y']\n"
     ]
    }
   ],
   "source": [
    "join_dmy = ak.char.join([\":\", \"/\"], [\"dmy\", \"dmy\"])\n",
    "print(\"Joint dmy by : and / = \", join_dmy)"
   ]
  },
  {
   "cell_type": "code",
   "execution_count": 33,
   "id": "d9429dc7",
   "metadata": {},
   "outputs": [
    {
     "name": "stdout",
     "output_type": "stream",
     "text": [
      "Character 'A' present  6  times in a string -  joqjaaodadhakdjuddaa\n"
     ]
    }
   ],
   "source": [
    "ch_name = \"joqjaaodadhakdjuddaa\"\n",
    "count_A = ak.char.count(ch_name, \"a\") # count string \"A\"\n",
    "print(\"Character 'A' present \", count_A , \" times in a string - \", ch_name) "
   ]
  },
  {
   "cell_type": "code",
   "execution_count": 37,
   "id": "c235811e",
   "metadata": {},
   "outputs": [
    {
     "name": "stdout",
     "output_type": "stream",
     "text": [
      "String  'AI' found at index  1  from string -  joqjaaodadhakdjuddaa\n"
     ]
    }
   ],
   "source": [
    "find_AI = ak.char.count(ch_name, \"u\") # Find string \"AI\"\n",
    "print(\"String  'AI' found at index \", find_AI , \" from string - \", ch_name) "
   ]
  },
  {
   "cell_type": "code",
   "execution_count": 41,
   "id": "b9244278",
   "metadata": {},
   "outputs": [
    {
     "name": "stdout",
     "output_type": "stream",
     "text": [
      "Index of 'a' string found at -  1  from string -  joqjaaodadhakdjuddaa\n"
     ]
    }
   ],
   "source": [
    "index_AI = ak.char.index(ch_name, \"a\") # Find index \"m\"\n",
    "print(\"Index of 'a' string found at - \", find_AI , \" from string - \", ch_name) "
   ]
  },
  {
   "cell_type": "code",
   "execution_count": null,
   "id": "b074a6a7",
   "metadata": {},
   "outputs": [],
   "source": []
  }
 ],
 "metadata": {
  "kernelspec": {
   "display_name": "Python 3 (ipykernel)",
   "language": "python",
   "name": "python3"
  },
  "language_info": {
   "codemirror_mode": {
    "name": "ipython",
    "version": 3
   },
   "file_extension": ".py",
   "mimetype": "text/x-python",
   "name": "python",
   "nbconvert_exporter": "python",
   "pygments_lexer": "ipython3",
   "version": "3.9.12"
  }
 },
 "nbformat": 4,
 "nbformat_minor": 5
}
