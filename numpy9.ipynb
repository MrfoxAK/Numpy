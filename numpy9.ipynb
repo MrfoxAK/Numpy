{
 "cells": [
  {
   "cell_type": "markdown",
   "id": "4fdc4845",
   "metadata": {},
   "source": [
    "# Random Sampling with numpy"
   ]
  },
  {
   "cell_type": "code",
   "execution_count": 1,
   "id": "1cad91da",
   "metadata": {},
   "outputs": [],
   "source": [
    "import numpy as np"
   ]
  },
  {
   "cell_type": "code",
   "execution_count": 5,
   "id": "cd70ded8",
   "metadata": {
    "scrolled": true
   },
   "outputs": [
    {
     "data": {
      "text/plain": [
       "array([0.55599967])"
      ]
     },
     "execution_count": 5,
     "metadata": {},
     "output_type": "execute_result"
    }
   ],
   "source": [
    "np.random.random(1)"
   ]
  },
  {
   "cell_type": "code",
   "execution_count": 7,
   "id": "bdf80ddd",
   "metadata": {
    "scrolled": true
   },
   "outputs": [
    {
     "data": {
      "text/plain": [
       "array([[0.84024821, 0.43621564, 0.19905265, 0.74488161, 0.7972842 ,\n",
       "        0.85147362],\n",
       "       [0.45065603, 0.84918076, 0.00589361, 0.10059928, 0.26009438,\n",
       "        0.1355461 ]])"
      ]
     },
     "execution_count": 7,
     "metadata": {},
     "output_type": "execute_result"
    }
   ],
   "source": [
    "np.random.random((2,6))"
   ]
  },
  {
   "cell_type": "code",
   "execution_count": 18,
   "id": "ea56dd5f",
   "metadata": {},
   "outputs": [
    {
     "data": {
      "text/plain": [
       "2"
      ]
     },
     "execution_count": 18,
     "metadata": {},
     "output_type": "execute_result"
    }
   ],
   "source": [
    "np.random.randint(5)"
   ]
  },
  {
   "cell_type": "code",
   "execution_count": 27,
   "id": "9fb0ee51",
   "metadata": {},
   "outputs": [
    {
     "name": "stdout",
     "output_type": "stream",
     "text": [
      "[[[2 2 2 1]\n",
      "  [2 2 1 2]\n",
      "  [1 1 2 1]\n",
      "  [2 1 1 2]]\n",
      "\n",
      " [[1 1 1 1]\n",
      "  [2 2 2 2]\n",
      "  [2 1 2 2]\n",
      "  [1 1 2 2]]\n",
      "\n",
      " [[1 1 2 1]\n",
      "  [2 1 2 2]\n",
      "  [1 1 2 2]\n",
      "  [1 2 1 1]]\n",
      "\n",
      " [[2 1 2 1]\n",
      "  [2 1 1 2]\n",
      "  [1 1 1 2]\n",
      "  [1 2 2 2]]]\n"
     ]
    }
   ],
   "source": [
    "arr = np.random.randint(1,3,(4,4,4))\n",
    "print(arr)"
   ]
  },
  {
   "cell_type": "code",
   "execution_count": null,
   "id": "1047a1dc",
   "metadata": {},
   "outputs": [],
   "source": []
  }
 ],
 "metadata": {
  "kernelspec": {
   "display_name": "Python 3 (ipykernel)",
   "language": "python",
   "name": "python3"
  },
  "language_info": {
   "codemirror_mode": {
    "name": "ipython",
    "version": 3
   },
   "file_extension": ".py",
   "mimetype": "text/x-python",
   "name": "python",
   "nbconvert_exporter": "python",
   "pygments_lexer": "ipython3",
   "version": "3.9.12"
  }
 },
 "nbformat": 4,
 "nbformat_minor": 5
}
